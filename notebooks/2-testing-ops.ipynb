{
 "cells": [
  {
   "cell_type": "code",
   "execution_count": 1,
   "metadata": {},
   "outputs": [
    {
     "name": "stdout",
     "output_type": "stream",
     "text": [
      "The autoreload extension is already loaded. To reload it, use:\n",
      "  %reload_ext autoreload\n"
     ]
    }
   ],
   "source": [
    "%load_ext autoreload\n",
    "%autoreload 2"
   ]
  },
  {
   "cell_type": "code",
   "execution_count": 3,
   "metadata": {},
   "outputs": [
    {
     "name": "stdout",
     "output_type": "stream",
     "text": [
      "The llm_magics extension is already loaded. To reload it, use:\n",
      "  %reload_ext llm_magics\n"
     ]
    }
   ],
   "source": [
    "%load_ext llm_magics\n",
    "%llm_set_model o1-preview\n",
    "%llm_set_system_message"
   ]
  },
  {
   "cell_type": "code",
   "execution_count": 4,
   "metadata": {},
   "outputs": [
    {
     "data": {
      "text/markdown": [
       "Sure! Here's a Python function that generates and returns a random integer between 1 and 100:\n"
      ],
      "text/plain": [
       "<IPython.core.display.Markdown object>"
      ]
     },
     "metadata": {},
     "output_type": "display_data"
    },
    {
     "data": {
      "text/html": [
       "\n",
       "    <div class=\"code-block-container\">\n",
       "        <button class=\"copy-button\" onclick=\"copyCode(this)\">Copy</button>\n",
       "        <pre><code class=\"language-python\">import random\n",
       "\n",
       "def generate_random_number():\n",
       "    return random.randint(1, 100)</code></pre>\n",
       "    </div>\n",
       "    "
      ],
      "text/plain": [
       "<IPython.core.display.HTML object>"
      ]
     },
     "metadata": {},
     "output_type": "display_data"
    },
    {
     "data": {
      "text/markdown": [
       "\n",
       "**Explanation:**\n",
       "\n",
       "- **Import the `random` module:** This built-in module contains functions for generating random numbers.\n",
       "- **Define the function `generate_random_number()`:** This function, when called, will generate a random number.\n",
       "- **Use `random.randint(1, 100)`:** This function returns a random integer N such that `1 <= N <= 100`.\n",
       "\n",
       "**Usage Example:**\n"
      ],
      "text/plain": [
       "<IPython.core.display.Markdown object>"
      ]
     },
     "metadata": {},
     "output_type": "display_data"
    },
    {
     "data": {
      "text/html": [
       "\n",
       "    <div class=\"code-block-container\">\n",
       "        <button class=\"copy-button\" onclick=\"copyCode(this)\">Copy</button>\n",
       "        <pre><code class=\"language-python\"># Generate a random number and print it\n",
       "random_number = generate_random_number()\n",
       "print(&quot;The random number is:&quot;, random_number)</code></pre>\n",
       "    </div>\n",
       "    "
      ],
      "text/plain": [
       "<IPython.core.display.HTML object>"
      ]
     },
     "metadata": {},
     "output_type": "display_data"
    },
    {
     "data": {
      "text/markdown": [
       "\n",
       "Each time you run `generate_random_number()`, it will return a new random integer between 1 and 100."
      ],
      "text/plain": [
       "<IPython.core.display.Markdown object>"
      ]
     },
     "metadata": {},
     "output_type": "display_data"
    },
    {
     "data": {
      "text/html": [
       "\n",
       "<!-- Include Highlight.js CSS and JS -->\n",
       "<link rel=\"stylesheet\" href=\"https://cdnjs.cloudflare.com/ajax/libs/highlight.js/11.8.0/styles/default.min.css\">\n",
       "<script src=\"https://cdnjs.cloudflare.com/ajax/libs/highlight.js/11.8.0/highlight.min.js\"></script>\n",
       "<script>hljs.highlightAll();</script>\n",
       "\n",
       "<!-- Include Prism.js CSS and JS -->\n",
       "<link rel=\"stylesheet\" href=\"https://cdnjs.cloudflare.com/ajax/libs/prism/1.29.0/themes/prism-okaidia.min.css\">\n",
       "<script src=\"https://cdnjs.cloudflare.com/ajax/libs/prism/1.29.0/prism.min.js\"></script>\n",
       "<script src=\"https://cdnjs.cloudflare.com/ajax/libs/prism/1.29.0/components/prism-python.min.js\"></script>\n",
       "<script src=\"https://cdnjs.cloudflare.com/ajax/libs/prism/1.29.0/components/prism-javascript.min.js\"></script>\n",
       "<script src=\"https://cdnjs.cloudflare.com/ajax/libs/prism/1.29.0/components/prism-java.min.js\"></script>\n",
       "<script src=\"https://cdnjs.cloudflare.com/ajax/libs/prism/1.29.0/components/prism-cpp.min.js\"></script>\n",
       "<script src=\"https://cdnjs.cloudflare.com/ajax/libs/prism/1.29.0/components/prism-swift.min.js\"></script>\n",
       "<script src=\"https://cdnjs.cloudflare.com/ajax/libs/prism/1.29.0/components/prism-markup.min.js\"></script>\n",
       "<script src=\"https://cdnjs.cloudflare.com/ajax/libs/prism/1.29.0/components/prism-css.min.js\"></script>\n",
       "\n",
       "<style>\n",
       "/* Code block container styles */\n",
       ".code-block-container {{\n",
       "    position: relative;\n",
       "    margin: 8px 0;\n",
       "    font-family: monospace;\n",
       "}}\n",
       "\n",
       "pre {{\n",
       "    margin: 0;\n",
       "    padding: 8px;\n",
       "    background-color: #f5f5f5;\n",
       "    border-radius: 4px;\n",
       "    overflow: auto;\n",
       "    font-size: 14px;\n",
       "    line-height: 1.5;\n",
       "}}\n",
       "\n",
       "code {{\n",
       "    font-family: monospace;\n",
       "}}\n",
       "\n",
       "/* Copy button styles */\n",
       ".copy-button {{\n",
       "    position: absolute;\n",
       "    top: 16px;\n",
       "    right: 16px;\n",
       "    padding: 2px 6px;\n",
       "    background-color: transparent;\n",
       "    color: #007acc;\n",
       "    border: none;\n",
       "    cursor: pointer;\n",
       "    font-size: 12px;\n",
       "    border-radius: 3px;\n",
       "    text-decoration: underline;\n",
       "}}\n",
       "\n",
       ".copy-button:hover {{\n",
       "    background-color: rgba(0, 0, 0, 0.05);\n",
       "}}\n",
       "\n",
       ".copy-button:focus {{\n",
       "    outline: none;\n",
       "}}\n",
       "\n",
       "</style>\n",
       "\n",
       "<script>\n",
       "function copyCode(button) {{\n",
       "    var code = button.nextElementSibling.innerText;\n",
       "    navigator.clipboard.writeText(code).then(function() {{\n",
       "        var originalText = button.innerText;\n",
       "        button.innerText = 'Copied';\n",
       "        setTimeout(function() {{\n",
       "            button.innerText = originalText;\n",
       "        }}, 2000);\n",
       "    }});\n",
       "}}\n",
       "</script>\n"
      ],
      "text/plain": [
       "<IPython.core.display.HTML object>"
      ]
     },
     "metadata": {},
     "output_type": "display_data"
    }
   ],
   "source": [
    "%%llm_chat\n",
    "\n",
    "Write python function which generates a random number between 1 and 100"
   ]
  },
  {
   "cell_type": "code",
   "execution_count": 5,
   "metadata": {},
   "outputs": [
    {
     "data": {
      "text/markdown": [
       "Certainly! Here's a Python function that generates and returns a random floating-point number between 1 and 100:\n"
      ],
      "text/plain": [
       "<IPython.core.display.Markdown object>"
      ]
     },
     "metadata": {},
     "output_type": "display_data"
    },
    {
     "data": {
      "text/html": [
       "\n",
       "    <div class=\"code-block-container\">\n",
       "        <button class=\"copy-button\" onclick=\"copyCode(this)\">Copy</button>\n",
       "        <pre><code class=\"language-python\">import random\n",
       "\n",
       "def generate_random_float():\n",
       "    return random.uniform(1, 100)</code></pre>\n",
       "    </div>\n",
       "    "
      ],
      "text/plain": [
       "<IPython.core.display.HTML object>"
      ]
     },
     "metadata": {},
     "output_type": "display_data"
    },
    {
     "data": {
      "text/markdown": [
       "\n",
       "**Explanation:**\n",
       "\n",
       "- **Import the `random` module:** This built-in module provides functions for generating random numbers.\n",
       "- **Define the function `generate_random_float()`:** This function, when called, will generate a random floating-point number.\n",
       "- **Use `random.uniform(1, 100)`:** The `uniform(a, b)` function returns a random floating-point number N such that `a <= N <= b`, with a uniform distribution over that range.\n",
       "\n",
       "**Usage Example:**\n"
      ],
      "text/plain": [
       "<IPython.core.display.Markdown object>"
      ]
     },
     "metadata": {},
     "output_type": "display_data"
    },
    {
     "data": {
      "text/html": [
       "\n",
       "    <div class=\"code-block-container\">\n",
       "        <button class=\"copy-button\" onclick=\"copyCode(this)\">Copy</button>\n",
       "        <pre><code class=\"language-python\"># Generate a random float and print it\n",
       "random_number = generate_random_float()\n",
       "print(&quot;The random float number is:&quot;, random_number)</code></pre>\n",
       "    </div>\n",
       "    "
      ],
      "text/plain": [
       "<IPython.core.display.HTML object>"
      ]
     },
     "metadata": {},
     "output_type": "display_data"
    },
    {
     "data": {
      "text/markdown": [
       "\n",
       "**Sample Output:**\n"
      ],
      "text/plain": [
       "<IPython.core.display.Markdown object>"
      ]
     },
     "metadata": {},
     "output_type": "display_data"
    },
    {
     "data": {
      "text/markdown": [
       "The random float number is: 57.83427192837465"
      ],
      "text/plain": [
       "<IPython.core.display.Markdown object>"
      ]
     },
     "metadata": {},
     "output_type": "display_data"
    },
    {
     "data": {
      "text/markdown": [
       "\n",
       "Each time you run `generate_random_float()`, it will return a new random floating-point number between 1 and 100.\n",
       "\n",
       "---\n",
       "\n",
       "**Alternate Approach: Generating Random Floats with Specific Precision**\n",
       "\n",
       "If you need the random float to have a specific number of decimal places, you can use the `round()` function:\n"
      ],
      "text/plain": [
       "<IPython.core.display.Markdown object>"
      ]
     },
     "metadata": {},
     "output_type": "display_data"
    },
    {
     "data": {
      "text/html": [
       "\n",
       "    <div class=\"code-block-container\">\n",
       "        <button class=\"copy-button\" onclick=\"copyCode(this)\">Copy</button>\n",
       "        <pre><code class=\"language-python\">def generate_random_float_precision(decimal_places):\n",
       "    number = random.uniform(1, 100)\n",
       "    return round(number, decimal_places)</code></pre>\n",
       "    </div>\n",
       "    "
      ],
      "text/plain": [
       "<IPython.core.display.HTML object>"
      ]
     },
     "metadata": {},
     "output_type": "display_data"
    },
    {
     "data": {
      "text/markdown": [
       "\n",
       "**Usage Example:**\n"
      ],
      "text/plain": [
       "<IPython.core.display.Markdown object>"
      ]
     },
     "metadata": {},
     "output_type": "display_data"
    },
    {
     "data": {
      "text/html": [
       "\n",
       "    <div class=\"code-block-container\">\n",
       "        <button class=\"copy-button\" onclick=\"copyCode(this)\">Copy</button>\n",
       "        <pre><code class=\"language-python\"># Generate a random float with 2 decimal places and print it\n",
       "random_number = generate_random_float_precision(2)\n",
       "print(&quot;The random float number is:&quot;, random_number)</code></pre>\n",
       "    </div>\n",
       "    "
      ],
      "text/plain": [
       "<IPython.core.display.HTML object>"
      ]
     },
     "metadata": {},
     "output_type": "display_data"
    },
    {
     "data": {
      "text/markdown": [
       "\n",
       "**Sample Output:**\n"
      ],
      "text/plain": [
       "<IPython.core.display.Markdown object>"
      ]
     },
     "metadata": {},
     "output_type": "display_data"
    },
    {
     "data": {
      "text/markdown": [
       "The random float number is: 23.47"
      ],
      "text/plain": [
       "<IPython.core.display.Markdown object>"
      ]
     },
     "metadata": {},
     "output_type": "display_data"
    },
    {
     "data": {
      "text/markdown": [
       "\n",
       "This function allows you to specify the number of decimal places by passing an argument to `decimal_places`. The `round()` function rounds the floating-point number to the specified precision.\n",
       "\n",
       "---\n",
       "\n",
       "**Additional Information:**\n",
       "\n",
       "- **Seeding the Random Number Generator:**\n",
       "  By default, Python's random number generator uses the current system time to seed the random number generator. If you need reproducible results (for testing purposes), you can seed the generator using `random.seed()`.\n",
       "\n",
       "  ```python\n",
       "  def generate_random_float_seed(seed_value=None):\n",
       "      if seed_value is not None:\n",
       "          random.seed(seed_value)\n",
       "      return random.uniform(1, 100)\n",
       "  ```\n",
       "\n",
       "  **Usage Example:**\n",
       "\n",
       "  ```python\n",
       "  # Generate a reproducible random float\n",
       "  random_number = generate_random_float_seed(seed_value=42)\n",
       "  print(\"The random float number is:\", random_number)\n",
       "  ```\n",
       "\n",
       "  Using the same `seed_value` will result in the same random number being generated each time.\n",
       "\n",
       "- **Using `random.random()` for a Range:**\n",
       "  Alternatively, you can use `random.random()`, which returns a float between 0 and 1, and scale it to your desired range:\n",
       "\n",
       "  ```python\n",
       "  def generate_random_float_alternative():\n",
       "      return 1 + (random.random() * 99)  # Scale to range [1, 100]\n",
       "  ```\n",
       "\n",
       "---\n",
       "\n",
       "Feel free to choose the method that best suits your needs!"
      ],
      "text/plain": [
       "<IPython.core.display.Markdown object>"
      ]
     },
     "metadata": {},
     "output_type": "display_data"
    },
    {
     "data": {
      "text/html": [
       "\n",
       "<!-- Include Highlight.js CSS and JS -->\n",
       "<link rel=\"stylesheet\" href=\"https://cdnjs.cloudflare.com/ajax/libs/highlight.js/11.8.0/styles/default.min.css\">\n",
       "<script src=\"https://cdnjs.cloudflare.com/ajax/libs/highlight.js/11.8.0/highlight.min.js\"></script>\n",
       "<script>hljs.highlightAll();</script>\n",
       "\n",
       "<!-- Include Prism.js CSS and JS -->\n",
       "<link rel=\"stylesheet\" href=\"https://cdnjs.cloudflare.com/ajax/libs/prism/1.29.0/themes/prism-okaidia.min.css\">\n",
       "<script src=\"https://cdnjs.cloudflare.com/ajax/libs/prism/1.29.0/prism.min.js\"></script>\n",
       "<script src=\"https://cdnjs.cloudflare.com/ajax/libs/prism/1.29.0/components/prism-python.min.js\"></script>\n",
       "<script src=\"https://cdnjs.cloudflare.com/ajax/libs/prism/1.29.0/components/prism-javascript.min.js\"></script>\n",
       "<script src=\"https://cdnjs.cloudflare.com/ajax/libs/prism/1.29.0/components/prism-java.min.js\"></script>\n",
       "<script src=\"https://cdnjs.cloudflare.com/ajax/libs/prism/1.29.0/components/prism-cpp.min.js\"></script>\n",
       "<script src=\"https://cdnjs.cloudflare.com/ajax/libs/prism/1.29.0/components/prism-swift.min.js\"></script>\n",
       "<script src=\"https://cdnjs.cloudflare.com/ajax/libs/prism/1.29.0/components/prism-markup.min.js\"></script>\n",
       "<script src=\"https://cdnjs.cloudflare.com/ajax/libs/prism/1.29.0/components/prism-css.min.js\"></script>\n",
       "\n",
       "<style>\n",
       "/* Code block container styles */\n",
       ".code-block-container {{\n",
       "    position: relative;\n",
       "    margin: 8px 0;\n",
       "    font-family: monospace;\n",
       "}}\n",
       "\n",
       "pre {{\n",
       "    margin: 0;\n",
       "    padding: 8px;\n",
       "    background-color: #f5f5f5;\n",
       "    border-radius: 4px;\n",
       "    overflow: auto;\n",
       "    font-size: 14px;\n",
       "    line-height: 1.5;\n",
       "}}\n",
       "\n",
       "code {{\n",
       "    font-family: monospace;\n",
       "}}\n",
       "\n",
       "/* Copy button styles */\n",
       ".copy-button {{\n",
       "    position: absolute;\n",
       "    top: 16px;\n",
       "    right: 16px;\n",
       "    padding: 2px 6px;\n",
       "    background-color: transparent;\n",
       "    color: #007acc;\n",
       "    border: none;\n",
       "    cursor: pointer;\n",
       "    font-size: 12px;\n",
       "    border-radius: 3px;\n",
       "    text-decoration: underline;\n",
       "}}\n",
       "\n",
       ".copy-button:hover {{\n",
       "    background-color: rgba(0, 0, 0, 0.05);\n",
       "}}\n",
       "\n",
       ".copy-button:focus {{\n",
       "    outline: none;\n",
       "}}\n",
       "\n",
       "</style>\n",
       "\n",
       "<script>\n",
       "function copyCode(button) {{\n",
       "    var code = button.nextElementSibling.innerText;\n",
       "    navigator.clipboard.writeText(code).then(function() {{\n",
       "        var originalText = button.innerText;\n",
       "        button.innerText = 'Copied';\n",
       "        setTimeout(function() {{\n",
       "            button.innerText = originalText;\n",
       "        }}, 2000);\n",
       "    }});\n",
       "}}\n",
       "</script>\n"
      ],
      "text/plain": [
       "<IPython.core.display.HTML object>"
      ]
     },
     "metadata": {},
     "output_type": "display_data"
    }
   ],
   "source": [
    "%%llm_chat\n",
    "\n",
    "Ok what about float numbers?"
   ]
  },
  {
   "cell_type": "code",
   "execution_count": 5,
   "metadata": {},
   "outputs": [
    {
     "data": {
      "text/markdown": [
       "If you want to generate random floating-point numbers between 1 and 100, you can use the `random.uniform()` function from the `random` module. This function will return a random float such that the float is between the specified parameters, inclusive.\n",
       "\n",
       "Here’s how you can write a function to generate such a number:\n"
      ],
      "text/plain": [
       "<IPython.core.display.Markdown object>"
      ]
     },
     "metadata": {},
     "output_type": "display_data"
    },
    {
     "data": {
      "text/html": [
       "\n",
       "    <div class=\"code-block-container\">\n",
       "        <button class=\"copy-button\" onclick=\"copyCode(this)\">Copy</button>\n",
       "        <pre><code class=\"language-python\">import random\n",
       "\n",
       "def generate_random_float():\n",
       "    return random.uniform(1, 100)\n",
       "\n",
       "# Example usage\n",
       "random_float = generate_random_float()\n",
       "print(f&quot;The random float is: {random_float}&quot;)</code></pre>\n",
       "    </div>\n",
       "    "
      ],
      "text/plain": [
       "<IPython.core.display.HTML object>"
      ]
     },
     "metadata": {},
     "output_type": "display_data"
    },
    {
     "data": {
      "text/markdown": [
       "\n",
       "This code will generate a random float between 1 and 100 each time you call `generate_random_float()`."
      ],
      "text/plain": [
       "<IPython.core.display.Markdown object>"
      ]
     },
     "metadata": {},
     "output_type": "display_data"
    },
    {
     "data": {
      "text/html": [
       "\n",
       "<!-- Include Highlight.js CSS and JS -->\n",
       "<link rel=\"stylesheet\" href=\"https://cdnjs.cloudflare.com/ajax/libs/highlight.js/11.8.0/styles/default.min.css\">\n",
       "<script src=\"https://cdnjs.cloudflare.com/ajax/libs/highlight.js/11.8.0/highlight.min.js\"></script>\n",
       "<script>hljs.highlightAll();</script>\n",
       "\n",
       "<!-- Include Prism.js CSS and JS -->\n",
       "<link rel=\"stylesheet\" href=\"https://cdnjs.cloudflare.com/ajax/libs/prism/1.29.0/themes/prism-okaidia.min.css\">\n",
       "<script src=\"https://cdnjs.cloudflare.com/ajax/libs/prism/1.29.0/prism.min.js\"></script>\n",
       "<script src=\"https://cdnjs.cloudflare.com/ajax/libs/prism/1.29.0/components/prism-python.min.js\"></script>\n",
       "<script src=\"https://cdnjs.cloudflare.com/ajax/libs/prism/1.29.0/components/prism-javascript.min.js\"></script>\n",
       "<script src=\"https://cdnjs.cloudflare.com/ajax/libs/prism/1.29.0/components/prism-java.min.js\"></script>\n",
       "<script src=\"https://cdnjs.cloudflare.com/ajax/libs/prism/1.29.0/components/prism-cpp.min.js\"></script>\n",
       "<script src=\"https://cdnjs.cloudflare.com/ajax/libs/prism/1.29.0/components/prism-swift.min.js\"></script>\n",
       "<script src=\"https://cdnjs.cloudflare.com/ajax/libs/prism/1.29.0/components/prism-markup.min.js\"></script>\n",
       "<script src=\"https://cdnjs.cloudflare.com/ajax/libs/prism/1.29.0/components/prism-css.min.js\"></script>\n",
       "\n",
       "<style>\n",
       "/* Code block container styles */\n",
       ".code-block-container {{\n",
       "    position: relative;\n",
       "    margin: 8px 0;\n",
       "    font-family: monospace;\n",
       "}}\n",
       "\n",
       "pre {{\n",
       "    margin: 0;\n",
       "    padding: 8px;\n",
       "    background-color: #f5f5f5;\n",
       "    border-radius: 4px;\n",
       "    overflow: auto;\n",
       "    font-size: 14px;\n",
       "    line-height: 1.5;\n",
       "}}\n",
       "\n",
       "code {{\n",
       "    font-family: monospace;\n",
       "}}\n",
       "\n",
       "/* Copy button styles */\n",
       ".copy-button {{\n",
       "    position: absolute;\n",
       "    top: 16px;\n",
       "    right: 16px;\n",
       "    padding: 2px 6px;\n",
       "    background-color: transparent;\n",
       "    color: #007acc;\n",
       "    border: none;\n",
       "    cursor: pointer;\n",
       "    font-size: 12px;\n",
       "    border-radius: 3px;\n",
       "    text-decoration: underline;\n",
       "}}\n",
       "\n",
       ".copy-button:hover {{\n",
       "    background-color: rgba(0, 0, 0, 0.05);\n",
       "}}\n",
       "\n",
       ".copy-button:focus {{\n",
       "    outline: none;\n",
       "}}\n",
       "\n",
       "</style>\n",
       "\n",
       "<script>\n",
       "function copyCode(button) {{\n",
       "    var code = button.nextElementSibling.innerText;\n",
       "    navigator.clipboard.writeText(code).then(function() {{\n",
       "        var originalText = button.innerText;\n",
       "        button.innerText = 'Copied';\n",
       "        setTimeout(function() {{\n",
       "            button.innerText = originalText;\n",
       "        }}, 2000);\n",
       "    }});\n",
       "}}\n",
       "</script>\n"
      ],
      "text/plain": [
       "<IPython.core.display.HTML object>"
      ]
     },
     "metadata": {},
     "output_type": "display_data"
    }
   ],
   "source": [
    "%%llm_chat\n",
    "\n",
    "Ok what about float numbers?"
   ]
  },
  {
   "cell_type": "code",
   "execution_count": null,
   "metadata": {},
   "outputs": [],
   "source": []
  }
 ],
 "metadata": {
  "kernelspec": {
   "display_name": "vlm3.11",
   "language": "python",
   "name": "python3"
  },
  "language_info": {
   "codemirror_mode": {
    "name": "ipython",
    "version": 3
   },
   "file_extension": ".py",
   "mimetype": "text/x-python",
   "name": "python",
   "nbconvert_exporter": "python",
   "pygments_lexer": "ipython3",
   "version": "3.11.9"
  }
 },
 "nbformat": 4,
 "nbformat_minor": 2
}
